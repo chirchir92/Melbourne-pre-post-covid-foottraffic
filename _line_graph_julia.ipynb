{
 "cells": [
  {
   "cell_type": "code",
   "execution_count": 1,
   "metadata": {},
   "outputs": [],
   "source": [
    "# Dependencies\n",
    "import pandas as pd\n",
    "import numpy as np\n",
    "import csv\n",
    "import requests\n",
    "from pprint import pprint\n",
    "from scipy.stats import linregress\n",
    "import matplotlib.pyplot as plt\n",
    "from sodapy import Socrata\n",
    "import os\n",
    "import gmaps\n",
    "#from config import g_key"
   ]
  },
  {
   "cell_type": "code",
   "execution_count": 2,
   "metadata": {},
   "outputs": [],
   "source": [
    "client = Socrata(\"data.melbourne.vic.gov.au\", app_token=\"PJ7LNUcljkE0xkoj2J0AzMeU4\", username=\"david_salim2006@hotmail.com\", password=\"David!2022\")\n",
    "\n",
    "results_2019 = client.get(\"b2ak-trbp\", year= 2019, limit = 10000000)\n",
    "results_2020 = client.get(\"b2ak-trbp\", year= 2020, limit = 10000000)\n",
    "results_2021 = client.get(\"b2ak-trbp\", year= 2021, limit = 10000000)\n",
    "results_2022 = client.get(\"b2ak-trbp\", year= 2022, limit = 10000000)\n",
    "\n"
   ]
  },
  {
   "cell_type": "code",
   "execution_count": 3,
   "metadata": {
    "scrolled": false
   },
   "outputs": [
    {
     "data": {
      "text/html": [
       "<div>\n",
       "<style scoped>\n",
       "    .dataframe tbody tr th:only-of-type {\n",
       "        vertical-align: middle;\n",
       "    }\n",
       "\n",
       "    .dataframe tbody tr th {\n",
       "        vertical-align: top;\n",
       "    }\n",
       "\n",
       "    .dataframe thead th {\n",
       "        text-align: right;\n",
       "    }\n",
       "</style>\n",
       "<table border=\"1\" class=\"dataframe\">\n",
       "  <thead>\n",
       "    <tr style=\"text-align: right;\">\n",
       "      <th></th>\n",
       "      <th>id</th>\n",
       "      <th>date_time</th>\n",
       "      <th>year</th>\n",
       "      <th>month</th>\n",
       "      <th>mdate</th>\n",
       "      <th>day</th>\n",
       "      <th>time</th>\n",
       "      <th>sensor_id</th>\n",
       "      <th>sensor_name</th>\n",
       "      <th>hourly_counts</th>\n",
       "    </tr>\n",
       "  </thead>\n",
       "  <tbody>\n",
       "    <tr>\n",
       "      <th>0</th>\n",
       "      <td>2887628</td>\n",
       "      <td>2019-11-01T17:00:00.000</td>\n",
       "      <td>2019</td>\n",
       "      <td>November</td>\n",
       "      <td>1</td>\n",
       "      <td>Friday</td>\n",
       "      <td>17</td>\n",
       "      <td>34</td>\n",
       "      <td>Flinders St-Spark La</td>\n",
       "      <td>300</td>\n",
       "    </tr>\n",
       "    <tr>\n",
       "      <th>1</th>\n",
       "      <td>2887629</td>\n",
       "      <td>2019-11-01T17:00:00.000</td>\n",
       "      <td>2019</td>\n",
       "      <td>November</td>\n",
       "      <td>1</td>\n",
       "      <td>Friday</td>\n",
       "      <td>17</td>\n",
       "      <td>39</td>\n",
       "      <td>Alfred Place</td>\n",
       "      <td>604</td>\n",
       "    </tr>\n",
       "    <tr>\n",
       "      <th>2</th>\n",
       "      <td>2887630</td>\n",
       "      <td>2019-11-01T17:00:00.000</td>\n",
       "      <td>2019</td>\n",
       "      <td>November</td>\n",
       "      <td>1</td>\n",
       "      <td>Friday</td>\n",
       "      <td>17</td>\n",
       "      <td>37</td>\n",
       "      <td>Lygon St (East)</td>\n",
       "      <td>216</td>\n",
       "    </tr>\n",
       "    <tr>\n",
       "      <th>3</th>\n",
       "      <td>2887631</td>\n",
       "      <td>2019-11-01T17:00:00.000</td>\n",
       "      <td>2019</td>\n",
       "      <td>November</td>\n",
       "      <td>1</td>\n",
       "      <td>Friday</td>\n",
       "      <td>17</td>\n",
       "      <td>40</td>\n",
       "      <td>Lonsdale St-Spring St (West)</td>\n",
       "      <td>627</td>\n",
       "    </tr>\n",
       "    <tr>\n",
       "      <th>4</th>\n",
       "      <td>2887632</td>\n",
       "      <td>2019-11-01T17:00:00.000</td>\n",
       "      <td>2019</td>\n",
       "      <td>November</td>\n",
       "      <td>1</td>\n",
       "      <td>Friday</td>\n",
       "      <td>17</td>\n",
       "      <td>36</td>\n",
       "      <td>Queen St (West)</td>\n",
       "      <td>774</td>\n",
       "    </tr>\n",
       "  </tbody>\n",
       "</table>\n",
       "</div>"
      ],
      "text/plain": [
       "        id                date_time  year     month mdate     day time  \\\n",
       "0  2887628  2019-11-01T17:00:00.000  2019  November     1  Friday   17   \n",
       "1  2887629  2019-11-01T17:00:00.000  2019  November     1  Friday   17   \n",
       "2  2887630  2019-11-01T17:00:00.000  2019  November     1  Friday   17   \n",
       "3  2887631  2019-11-01T17:00:00.000  2019  November     1  Friday   17   \n",
       "4  2887632  2019-11-01T17:00:00.000  2019  November     1  Friday   17   \n",
       "\n",
       "  sensor_id                   sensor_name hourly_counts  \n",
       "0        34          Flinders St-Spark La           300  \n",
       "1        39                  Alfred Place           604  \n",
       "2        37               Lygon St (East)           216  \n",
       "3        40  Lonsdale St-Spring St (West)           627  \n",
       "4        36               Queen St (West)           774  "
      ]
     },
     "execution_count": 3,
     "metadata": {},
     "output_type": "execute_result"
    }
   ],
   "source": [
    "results_2019_df = pd.DataFrame.from_records(results_2019)\n",
    "results_2019_df.to_csv(\"foottrafficsdata2019.csv\")\n",
    "results_2019_df.head()"
   ]
  },
  {
   "cell_type": "code",
   "execution_count": 4,
   "metadata": {
    "scrolled": true
   },
   "outputs": [],
   "source": [
    "# Data 2019 cleaning - identify data types\n",
    "\n",
    "#results_2019_df.dtypes"
   ]
  },
  {
   "cell_type": "code",
   "execution_count": 5,
   "metadata": {
    "scrolled": true
   },
   "outputs": [],
   "source": [
    "# Data 2019 cleaning - data types\n",
    "data_type_dict = {\"id\":int,\"year\":int,\"mdate\":int,\"time\":int,\"hourly_counts\":float}\n",
    "results_2019_df = results_2019_df.astype(data_type_dict)\n",
    "\n",
    "#results_2019_df.dtypes"
   ]
  },
  {
   "cell_type": "code",
   "execution_count": 6,
   "metadata": {
    "scrolled": true
   },
   "outputs": [],
   "source": [
    "# Group by months \n",
    "month  = results_2019_df[[\"month\", \"hourly_counts\"]].groupby(\"month\").sum()\n",
    "#month"
   ]
  },
  {
   "cell_type": "code",
   "execution_count": 7,
   "metadata": {
    "scrolled": true
   },
   "outputs": [
    {
     "data": {
      "text/plain": [
       "{'hourly_counts': {'April': 22818120.0,\n",
       "  'August': 23896524.0,\n",
       "  'December': 24931172.0,\n",
       "  'February': 18816254.0,\n",
       "  'January': 18904686.0,\n",
       "  'July': 22744685.0,\n",
       "  'June': 20194222.0,\n",
       "  'March': 23181242.0,\n",
       "  'May': 21590920.0,\n",
       "  'November': 23487511.0,\n",
       "  'October': 24738547.0,\n",
       "  'September': 21107792.0}}"
      ]
     },
     "execution_count": 7,
     "metadata": {},
     "output_type": "execute_result"
    }
   ],
   "source": [
    "months_dict_2019 = month.to_dict()\n",
    "months_dict_2019"
   ]
  },
  {
   "cell_type": "code",
   "execution_count": 8,
   "metadata": {},
   "outputs": [],
   "source": [
    "months_list=[\"January\",\"February\", \"March\", \"April\", \"May\", \"June\",  \"July\", \"August\", \"September\",\n",
    "             \"October\", \"November\", \"December\"]"
   ]
  },
  {
   "cell_type": "code",
   "execution_count": 9,
   "metadata": {
    "scrolled": true
   },
   "outputs": [
    {
     "data": {
      "image/png": "[encoded data removed]",
      "text/plain": [
       "<Figure size 432x288 with 1 Axes>"
      ]
     },
     "metadata": {
      "needs_background": "light"
     },
     "output_type": "display_data"
    }
   ],
   "source": [
    "#Create Line chart  for 2019\n",
    "\n",
    "x = months_list\n",
    "y = [months_dict_2019[\"hourly_counts\"][i] for i in months_list]\n",
    "# plot lines\n",
    "plt.plot(x, y,label = \"line 1\")\n",
    "# plt.plot(x, y2,label = \"line 2\")\n",
    "# plt.plot(x, y3,label = \"line 3\")\n",
    "# plt.plot(x, y3,label = \"line 4\")\n",
    "# plt.plot(y, x, np.month = \"line 2\")\n",
    "# plt.plot(x, np.sin(x), label = \"curve 1\")\n",
    "# plt.plot(x, np.cos(x), label = \"curve 2\")\n",
    "#plt.legend(loc=(\"best\")\n",
    "plt.title(\"Foot Traffic Month vs. Year\")\n",
    "plt.xlabel(\"Month\")\n",
    "plt.xticks(rotation = 45) \n",
    "plt.ylabel(\"Year(Millions)\")\n",
    "plt.show()\n",
    "\n",
    "\n",
    "\n",
    "\n"
   ]
  },
  {
   "cell_type": "code",
   "execution_count": 10,
   "metadata": {
    "scrolled": true
   },
   "outputs": [
    {
     "data": {
      "text/html": [
       "<div>\n",
       "<style scoped>\n",
       "    .dataframe tbody tr th:only-of-type {\n",
       "        vertical-align: middle;\n",
       "    }\n",
       "\n",
       "    .dataframe tbody tr th {\n",
       "        vertical-align: top;\n",
       "    }\n",
       "\n",
       "    .dataframe thead th {\n",
       "        text-align: right;\n",
       "    }\n",
       "</style>\n",
       "<table border=\"1\" class=\"dataframe\">\n",
       "  <thead>\n",
       "    <tr style=\"text-align: right;\">\n",
       "      <th></th>\n",
       "      <th>id</th>\n",
       "      <th>date_time</th>\n",
       "      <th>year</th>\n",
       "      <th>month</th>\n",
       "      <th>mdate</th>\n",
       "      <th>day</th>\n",
       "      <th>time</th>\n",
       "      <th>sensor_id</th>\n",
       "      <th>sensor_name</th>\n",
       "      <th>hourly_counts</th>\n",
       "    </tr>\n",
       "  </thead>\n",
       "  <tbody>\n",
       "    <tr>\n",
       "      <th>0</th>\n",
       "      <td>2966839</td>\n",
       "      <td>2020-01-01T00:00:00.000</td>\n",
       "      <td>2020</td>\n",
       "      <td>January</td>\n",
       "      <td>1</td>\n",
       "      <td>Wednesday</td>\n",
       "      <td>0</td>\n",
       "      <td>4</td>\n",
       "      <td>Town Hall (West)</td>\n",
       "      <td>3120</td>\n",
       "    </tr>\n",
       "    <tr>\n",
       "      <th>1</th>\n",
       "      <td>2966840</td>\n",
       "      <td>2020-01-01T00:00:00.000</td>\n",
       "      <td>2020</td>\n",
       "      <td>January</td>\n",
       "      <td>1</td>\n",
       "      <td>Wednesday</td>\n",
       "      <td>0</td>\n",
       "      <td>17</td>\n",
       "      <td>Collins Place (South)</td>\n",
       "      <td>945</td>\n",
       "    </tr>\n",
       "    <tr>\n",
       "      <th>2</th>\n",
       "      <td>2966841</td>\n",
       "      <td>2020-01-01T00:00:00.000</td>\n",
       "      <td>2020</td>\n",
       "      <td>January</td>\n",
       "      <td>1</td>\n",
       "      <td>Wednesday</td>\n",
       "      <td>0</td>\n",
       "      <td>18</td>\n",
       "      <td>Collins Place (North)</td>\n",
       "      <td>464</td>\n",
       "    </tr>\n",
       "    <tr>\n",
       "      <th>3</th>\n",
       "      <td>2966842</td>\n",
       "      <td>2020-01-01T00:00:00.000</td>\n",
       "      <td>2020</td>\n",
       "      <td>January</td>\n",
       "      <td>1</td>\n",
       "      <td>Wednesday</td>\n",
       "      <td>0</td>\n",
       "      <td>53</td>\n",
       "      <td>Collins St (North)</td>\n",
       "      <td>1590</td>\n",
       "    </tr>\n",
       "    <tr>\n",
       "      <th>4</th>\n",
       "      <td>2966843</td>\n",
       "      <td>2020-01-01T00:00:00.000</td>\n",
       "      <td>2020</td>\n",
       "      <td>January</td>\n",
       "      <td>1</td>\n",
       "      <td>Wednesday</td>\n",
       "      <td>0</td>\n",
       "      <td>2</td>\n",
       "      <td>Bourke Street Mall (South)</td>\n",
       "      <td>725</td>\n",
       "    </tr>\n",
       "  </tbody>\n",
       "</table>\n",
       "</div>"
      ],
      "text/plain": [
       "        id                date_time  year    month mdate        day time  \\\n",
       "0  2966839  2020-01-01T00:00:00.000  2020  January     1  Wednesday    0   \n",
       "1  2966840  2020-01-01T00:00:00.000  2020  January     1  Wednesday    0   \n",
       "2  2966841  2020-01-01T00:00:00.000  2020  January     1  Wednesday    0   \n",
       "3  2966842  2020-01-01T00:00:00.000  2020  January     1  Wednesday    0   \n",
       "4  2966843  2020-01-01T00:00:00.000  2020  January     1  Wednesday    0   \n",
       "\n",
       "  sensor_id                 sensor_name hourly_counts  \n",
       "0         4            Town Hall (West)          3120  \n",
       "1        17       Collins Place (South)           945  \n",
       "2        18       Collins Place (North)           464  \n",
       "3        53          Collins St (North)          1590  \n",
       "4         2  Bourke Street Mall (South)           725  "
      ]
     },
     "execution_count": 10,
     "metadata": {},
     "output_type": "execute_result"
    }
   ],
   "source": [
    "\n",
    "results_2020_df = pd.DataFrame.from_records(results_2020)\n",
    "results_2020_df.to_csv(\"foottrafficsdata2020.csv\")\n",
    "results_2020_df.head()"
   ]
  },
  {
   "cell_type": "code",
   "execution_count": 11,
   "metadata": {
    "scrolled": true
   },
   "outputs": [
    {
     "data": {
      "text/plain": [
       "id                 int64\n",
       "date_time         object\n",
       "year               int64\n",
       "month             object\n",
       "mdate              int64\n",
       "day               object\n",
       "time               int64\n",
       "sensor_id         object\n",
       "sensor_name       object\n",
       "hourly_counts    float64\n",
       "dtype: object"
      ]
     },
     "execution_count": 11,
     "metadata": {},
     "output_type": "execute_result"
    }
   ],
   "source": [
    "# Data 2020 cleaning - data types\n",
    "data_type_dict = {\"id\":int,\"year\":int,\"mdate\":int,\"time\":int,\"hourly_counts\":float}\n",
    "results_2020_df = results_2020_df.astype(data_type_dict)\n",
    "\n",
    "results_2020_df.dtypes"
   ]
  },
  {
   "cell_type": "code",
   "execution_count": 12,
   "metadata": {},
   "outputs": [],
   "source": [
    "# Group by months \n",
    "month  = results_2020_df[[\"month\", \"hourly_counts\"]].groupby(\"month\").sum()"
   ]
  },
  {
   "cell_type": "code",
   "execution_count": 13,
   "metadata": {},
   "outputs": [],
   "source": [
    "months_dict_2020 = month.to_dict()\n",
    "#months_dict_2020"
   ]
  },
  {
   "cell_type": "code",
   "execution_count": 14,
   "metadata": {
    "scrolled": true
   },
   "outputs": [
    {
     "data": {
      "image/png": "[encoded data removed]",
      "text/plain": [
       "<Figure size 432x288 with 1 Axes>"
      ]
     },
     "metadata": {
      "needs_background": "light"
     },
     "output_type": "display_data"
    }
   ],
   "source": [
    "#Create Line chart  for 2020 and add to 2019 chart \n",
    "\n",
    "x = months_list\n",
    "y = [months_dict_2019[\"hourly_counts\"][i] for i in months_list]\n",
    "y2 =[months_dict_2020[\"hourly_counts\"][i] for i in months_list]\n",
    "# plot lines\n",
    "plt.plot(x, y,label = \"line 1\")\n",
    "plt.plot(x, y2,label = \"line 2\")\n",
    "plt.title(\"Foot Traffic Month vs. Year\")\n",
    "plt.xlabel(\"Month\")\n",
    "plt.xticks(rotation = 45) \n",
    "plt.ylabel(\"Year(Millions)\")\n",
    "plt.show()\n",
    "\n",
    "\n",
    "\n",
    "\n"
   ]
  },
  {
   "cell_type": "code",
   "execution_count": 15,
   "metadata": {
    "scrolled": true
   },
   "outputs": [
    {
     "data": {
      "text/html": [
       "<div>\n",
       "<style scoped>\n",
       "    .dataframe tbody tr th:only-of-type {\n",
       "        vertical-align: middle;\n",
       "    }\n",
       "\n",
       "    .dataframe tbody tr th {\n",
       "        vertical-align: top;\n",
       "    }\n",
       "\n",
       "    .dataframe thead th {\n",
       "        text-align: right;\n",
       "    }\n",
       "</style>\n",
       "<table border=\"1\" class=\"dataframe\">\n",
       "  <thead>\n",
       "    <tr style=\"text-align: right;\">\n",
       "      <th></th>\n",
       "      <th>id</th>\n",
       "      <th>date_time</th>\n",
       "      <th>year</th>\n",
       "      <th>month</th>\n",
       "      <th>mdate</th>\n",
       "      <th>day</th>\n",
       "      <th>time</th>\n",
       "      <th>sensor_id</th>\n",
       "      <th>sensor_name</th>\n",
       "      <th>hourly_counts</th>\n",
       "    </tr>\n",
       "  </thead>\n",
       "  <tbody>\n",
       "    <tr>\n",
       "      <th>0</th>\n",
       "      <td>3482939</td>\n",
       "      <td>2021-01-01T00:00:00.000</td>\n",
       "      <td>2021</td>\n",
       "      <td>January</td>\n",
       "      <td>1</td>\n",
       "      <td>Friday</td>\n",
       "      <td>0</td>\n",
       "      <td>4</td>\n",
       "      <td>Town Hall (West)</td>\n",
       "      <td>1461</td>\n",
       "    </tr>\n",
       "    <tr>\n",
       "      <th>1</th>\n",
       "      <td>3482940</td>\n",
       "      <td>2021-01-01T00:00:00.000</td>\n",
       "      <td>2021</td>\n",
       "      <td>January</td>\n",
       "      <td>1</td>\n",
       "      <td>Friday</td>\n",
       "      <td>0</td>\n",
       "      <td>17</td>\n",
       "      <td>Collins Place (South)</td>\n",
       "      <td>79</td>\n",
       "    </tr>\n",
       "    <tr>\n",
       "      <th>2</th>\n",
       "      <td>3482941</td>\n",
       "      <td>2021-01-01T00:00:00.000</td>\n",
       "      <td>2021</td>\n",
       "      <td>January</td>\n",
       "      <td>1</td>\n",
       "      <td>Friday</td>\n",
       "      <td>0</td>\n",
       "      <td>18</td>\n",
       "      <td>Collins Place (North)</td>\n",
       "      <td>33</td>\n",
       "    </tr>\n",
       "    <tr>\n",
       "      <th>3</th>\n",
       "      <td>3482942</td>\n",
       "      <td>2021-01-01T00:00:00.000</td>\n",
       "      <td>2021</td>\n",
       "      <td>January</td>\n",
       "      <td>1</td>\n",
       "      <td>Friday</td>\n",
       "      <td>0</td>\n",
       "      <td>53</td>\n",
       "      <td>Collins St (North)</td>\n",
       "      <td>196</td>\n",
       "    </tr>\n",
       "    <tr>\n",
       "      <th>4</th>\n",
       "      <td>3482943</td>\n",
       "      <td>2021-01-01T00:00:00.000</td>\n",
       "      <td>2021</td>\n",
       "      <td>January</td>\n",
       "      <td>1</td>\n",
       "      <td>Friday</td>\n",
       "      <td>0</td>\n",
       "      <td>2</td>\n",
       "      <td>Bourke Street Mall (South)</td>\n",
       "      <td>236</td>\n",
       "    </tr>\n",
       "  </tbody>\n",
       "</table>\n",
       "</div>"
      ],
      "text/plain": [
       "        id                date_time  year    month mdate     day time  \\\n",
       "0  3482939  2021-01-01T00:00:00.000  2021  January     1  Friday    0   \n",
       "1  3482940  2021-01-01T00:00:00.000  2021  January     1  Friday    0   \n",
       "2  3482941  2021-01-01T00:00:00.000  2021  January     1  Friday    0   \n",
       "3  3482942  2021-01-01T00:00:00.000  2021  January     1  Friday    0   \n",
       "4  3482943  2021-01-01T00:00:00.000  2021  January     1  Friday    0   \n",
       "\n",
       "  sensor_id                 sensor_name hourly_counts  \n",
       "0         4            Town Hall (West)          1461  \n",
       "1        17       Collins Place (South)            79  \n",
       "2        18       Collins Place (North)            33  \n",
       "3        53          Collins St (North)           196  \n",
       "4         2  Bourke Street Mall (South)           236  "
      ]
     },
     "execution_count": 15,
     "metadata": {},
     "output_type": "execute_result"
    }
   ],
   "source": [
    "results_2021_df = pd.DataFrame.from_records(results_2021)\n",
    "results_2021_df.to_csv(\"foottrafficsdata2021.csv\")\n",
    "results_2021_df.head()"
   ]
  },
  {
   "cell_type": "code",
   "execution_count": 16,
   "metadata": {},
   "outputs": [],
   "source": [
    "# Data 2021 cleaning - data types\n",
    "data_type_dict = {\"id\":int,\"year\":int,\"mdate\":int,\"time\":int,\"hourly_counts\":float}\n",
    "results_2021_df = results_2021_df.astype(data_type_dict)\n",
    "\n",
    "#results_2021_df.dtypes\n"
   ]
  },
  {
   "cell_type": "code",
   "execution_count": 17,
   "metadata": {},
   "outputs": [],
   "source": [
    "# Group by months \n",
    "month  = results_2021_df[[\"month\", \"hourly_counts\"]].groupby(\"month\").sum()"
   ]
  },
  {
   "cell_type": "code",
   "execution_count": 18,
   "metadata": {},
   "outputs": [],
   "source": [
    "months_dict_2021 = month.to_dict()\n",
    "#months_dict_2021"
   ]
  },
  {
   "cell_type": "code",
   "execution_count": 19,
   "metadata": {},
   "outputs": [],
   "source": [
    "#Check number are different\n",
    "y2 =[months_dict_2020[\"hourly_counts\"][i] for i in months_list]\n",
    "y3 =[months_dict_2021[\"hourly_counts\"][i] for i in months_list]\n"
   ]
  },
  {
   "cell_type": "code",
   "execution_count": 20,
   "metadata": {},
   "outputs": [
    {
     "data": {
      "image/png": "[encoded data removed]",
      "text/plain": [
       "<Figure size 432x288 with 1 Axes>"
      ]
     },
     "metadata": {
      "needs_background": "light"
     },
     "output_type": "display_data"
    }
   ],
   "source": [
    " #Create Line chart  for 2020 and add to 2019 chart \n",
    "\n",
    "x = months_list\n",
    "y = [months_dict_2019[\"hourly_counts\"][i] for i in months_list]\n",
    "y2 =[months_dict_2020[\"hourly_counts\"][i] for i in months_list]\n",
    "y3 =[months_dict_2021[\"hourly_counts\"][i] for i in months_list]\n",
    "# plot lines\n",
    "plt.plot(x, y,label = \"line 1\")\n",
    "plt.plot(x, y2,label = \"line 2\")\n",
    "plt.plot(x, y3,label = \"line 3\")\n",
    "plt.title(\"Foot Traffic Month vs. Year\")\n",
    "plt.xlabel(\"Month\")\n",
    "plt.xticks(rotation = 45) \n",
    "plt.ylabel(\"Year(Millions)\")\n",
    "plt.legend()\n",
    "plt.show()\n"
   ]
  },
  {
   "cell_type": "code",
   "execution_count": 21,
   "metadata": {
    "scrolled": true
   },
   "outputs": [
    {
     "data": {
      "text/html": [
       "<div>\n",
       "<style scoped>\n",
       "    .dataframe tbody tr th:only-of-type {\n",
       "        vertical-align: middle;\n",
       "    }\n",
       "\n",
       "    .dataframe tbody tr th {\n",
       "        vertical-align: top;\n",
       "    }\n",
       "\n",
       "    .dataframe thead th {\n",
       "        text-align: right;\n",
       "    }\n",
       "</style>\n",
       "<table border=\"1\" class=\"dataframe\">\n",
       "  <thead>\n",
       "    <tr style=\"text-align: right;\">\n",
       "      <th></th>\n",
       "      <th>id</th>\n",
       "      <th>date_time</th>\n",
       "      <th>year</th>\n",
       "      <th>month</th>\n",
       "      <th>mdate</th>\n",
       "      <th>day</th>\n",
       "      <th>time</th>\n",
       "      <th>sensor_id</th>\n",
       "      <th>sensor_name</th>\n",
       "      <th>hourly_counts</th>\n",
       "    </tr>\n",
       "  </thead>\n",
       "  <tbody>\n",
       "    <tr>\n",
       "      <th>0</th>\n",
       "      <td>4231866</td>\n",
       "      <td>2022-04-05T15:00:00.000</td>\n",
       "      <td>2022</td>\n",
       "      <td>April</td>\n",
       "      <td>5</td>\n",
       "      <td>Tuesday</td>\n",
       "      <td>15</td>\n",
       "      <td>4</td>\n",
       "      <td>Town Hall (West)</td>\n",
       "      <td>2132</td>\n",
       "    </tr>\n",
       "    <tr>\n",
       "      <th>1</th>\n",
       "      <td>4231867</td>\n",
       "      <td>2022-04-05T16:00:00.000</td>\n",
       "      <td>2022</td>\n",
       "      <td>April</td>\n",
       "      <td>5</td>\n",
       "      <td>Tuesday</td>\n",
       "      <td>16</td>\n",
       "      <td>4</td>\n",
       "      <td>Town Hall (West)</td>\n",
       "      <td>2271</td>\n",
       "    </tr>\n",
       "    <tr>\n",
       "      <th>2</th>\n",
       "      <td>4231868</td>\n",
       "      <td>2022-04-05T17:00:00.000</td>\n",
       "      <td>2022</td>\n",
       "      <td>April</td>\n",
       "      <td>5</td>\n",
       "      <td>Tuesday</td>\n",
       "      <td>17</td>\n",
       "      <td>4</td>\n",
       "      <td>Town Hall (West)</td>\n",
       "      <td>2966</td>\n",
       "    </tr>\n",
       "    <tr>\n",
       "      <th>3</th>\n",
       "      <td>4231869</td>\n",
       "      <td>2022-04-05T18:00:00.000</td>\n",
       "      <td>2022</td>\n",
       "      <td>April</td>\n",
       "      <td>5</td>\n",
       "      <td>Tuesday</td>\n",
       "      <td>18</td>\n",
       "      <td>4</td>\n",
       "      <td>Town Hall (West)</td>\n",
       "      <td>2242</td>\n",
       "    </tr>\n",
       "    <tr>\n",
       "      <th>4</th>\n",
       "      <td>4231870</td>\n",
       "      <td>2022-04-05T19:00:00.000</td>\n",
       "      <td>2022</td>\n",
       "      <td>April</td>\n",
       "      <td>5</td>\n",
       "      <td>Tuesday</td>\n",
       "      <td>19</td>\n",
       "      <td>4</td>\n",
       "      <td>Town Hall (West)</td>\n",
       "      <td>2008</td>\n",
       "    </tr>\n",
       "  </tbody>\n",
       "</table>\n",
       "</div>"
      ],
      "text/plain": [
       "        id                date_time  year  month mdate      day time  \\\n",
       "0  4231866  2022-04-05T15:00:00.000  2022  April     5  Tuesday   15   \n",
       "1  4231867  2022-04-05T16:00:00.000  2022  April     5  Tuesday   16   \n",
       "2  4231868  2022-04-05T17:00:00.000  2022  April     5  Tuesday   17   \n",
       "3  4231869  2022-04-05T18:00:00.000  2022  April     5  Tuesday   18   \n",
       "4  4231870  2022-04-05T19:00:00.000  2022  April     5  Tuesday   19   \n",
       "\n",
       "  sensor_id       sensor_name hourly_counts  \n",
       "0         4  Town Hall (West)          2132  \n",
       "1         4  Town Hall (West)          2271  \n",
       "2         4  Town Hall (West)          2966  \n",
       "3         4  Town Hall (West)          2242  \n",
       "4         4  Town Hall (West)          2008  "
      ]
     },
     "execution_count": 21,
     "metadata": {},
     "output_type": "execute_result"
    }
   ],
   "source": [
    "#create data frame for 2022 data to include 2022 data \n",
    "results_2022_df = pd.DataFrame.from_records(results_2022)\n",
    "results_2022_df.to_csv(\"foottrafficsdata2022.csv\")\n",
    "results_2022_df.head()"
   ]
  },
  {
   "cell_type": "code",
   "execution_count": 22,
   "metadata": {},
   "outputs": [],
   "source": [
    "# Data 2022 cleaning - data types\n",
    "data_type_dict = {\"id\":int,\"year\":int,\"mdate\":int,\"time\":int,\"hourly_counts\":float}\n",
    "results_2022_df = results_2022_df.astype(data_type_dict)\n",
    "\n",
    "#results_2022_df.dtypes"
   ]
  },
  {
   "cell_type": "code",
   "execution_count": 23,
   "metadata": {},
   "outputs": [],
   "source": [
    "# Group by months \n",
    "month  = results_2022_df[[\"month\", \"hourly_counts\"]].groupby(\"month\").sum()"
   ]
  },
  {
   "cell_type": "code",
   "execution_count": 24,
   "metadata": {},
   "outputs": [],
   "source": [
    "months_dict_2022 = month.to_dict()\n",
    "#months_dict_2022"
   ]
  },
  {
   "cell_type": "code",
   "execution_count": 25,
   "metadata": {
    "scrolled": true
   },
   "outputs": [],
   "source": [
    "# Error as 2022 data was not available after May 2022 - confirm  months\n",
    "#months_list"
   ]
  },
  {
   "cell_type": "markdown",
   "metadata": {},
   "source": []
  },
  {
   "cell_type": "code",
   "execution_count": 26,
   "metadata": {},
   "outputs": [
    {
     "data": {
      "text/plain": [
       "16311094.0"
      ]
     },
     "execution_count": 26,
     "metadata": {},
     "output_type": "execute_result"
    }
   ],
   "source": [
    "#Check number of May \n",
    "months_dict_2022['hourly_counts']['May']"
   ]
  },
  {
   "cell_type": "code",
   "execution_count": 27,
   "metadata": {
    "scrolled": true
   },
   "outputs": [
    {
     "data": {
      "text/plain": [
       "[19469918.0, 13223750.0, 12298644.0, 18275965.0, 16311094.0]"
      ]
     },
     "execution_count": 27,
     "metadata": {},
     "output_type": "execute_result"
    }
   ],
   "source": [
    "#Create a list that only includes the first 5 months for 2022\n",
    "list(months_dict_2022['hourly_counts'].values())"
   ]
  },
  {
   "cell_type": "code",
   "execution_count": 28,
   "metadata": {},
   "outputs": [],
   "source": [
    "y4 =list(months_dict_2022['hourly_counts'].values())\n",
    "# plot lines"
   ]
  },
  {
   "cell_type": "code",
   "execution_count": 29,
   "metadata": {},
   "outputs": [],
   "source": [
    "x4_months = list(months_dict_2022['hourly_counts'].keys())"
   ]
  },
  {
   "cell_type": "code",
   "execution_count": 30,
   "metadata": {},
   "outputs": [],
   "source": [
    "x4_months=['January',\n",
    " 'February',\n",
    " 'March',\n",
    " 'April',\n",
    " 'May']"
   ]
  },
  {
   "cell_type": "code",
   "execution_count": 31,
   "metadata": {
    "scrolled": false
   },
   "outputs": [],
   "source": [
    "#months_list"
   ]
  },
  {
   "cell_type": "code",
   "execution_count": 32,
   "metadata": {},
   "outputs": [
    {
     "data": {
      "image/png": "[encoded data removed]",
      "text/plain": [
       "<Figure size 432x288 with 1 Axes>"
      ]
     },
     "metadata": {
      "needs_background": "light"
     },
     "output_type": "display_data"
    }
   ],
   "source": [
    "#Create Line chart for 2019, 2020, 2021 and 2022 ( noting 2022 only had 5 mon ths of data)\n",
    "\n",
    "x = months_list\n",
    "y = [months_dict_2019[\"hourly_counts\"][i] for i in months_list]\n",
    "y2 =[months_dict_2020[\"hourly_counts\"][i] for i in months_list]\n",
    "y3 =[months_dict_2021[\"hourly_counts\"][i] for i in months_list]\n",
    "y#4 =[months_dict_2022[\"hourly_counts\"][i] for i in months_list]\n",
    "\n",
    "# plot lines\n",
    "plt.plot(x, y,label = \"line 1\")\n",
    "plt.plot(x, y2,label = \"line 2\")\n",
    "plt.plot(x, y3,label = \"line 3\")\n",
    "plt.plot(x4_months, y4,label = \"line 4\")\n",
    "plt.title(\"Foot Traffic Month vs. Year\")\n",
    "plt.xlabel(\"Month\")\n",
    "plt.xticks(rotation = 45) \n",
    "plt.ylabel(\"Year(Millions)\")\n",
    "plt.legend(loc='best')\n",
    "plt.show()\n"
   ]
  },
  {
   "cell_type": "code",
   "execution_count": null,
   "metadata": {},
   "outputs": [],
   "source": []
  },
  {
   "cell_type": "code",
   "execution_count": null,
   "metadata": {},
   "outputs": [],
   "source": []
  },
  {
   "cell_type": "code",
   "execution_count": null,
   "metadata": {},
   "outputs": [],
   "source": [
    "# Data 2022 groupby\n",
    "# results_2022_df= results_2022_df[(results_2022_df[\"time\"] >= 12) & (results_2022_df[\"time\"] <= 15)]\n",
    "location = results_2022_df.groupby(\"sensor_name\")\n",
    "foottrafic_2022 = location[\"hourly_counts\"].mean()\n",
    "\n",
    "results_2022_groupby_df = pd.DataFrame({\"Av foot traffic 2022\": foottrafic_2022})\n",
    "results_2022_groupby_df = results_2022_groupby_df.reset_index()\n",
    "results_2022_groupby_df.rename(columns={\"sensor_name\":\"location\"},inplace=True)\n",
    "results_2022_groupby_df\n"
   ]
  },
  {
   "cell_type": "code",
   "execution_count": null,
   "metadata": {},
   "outputs": [],
   "source": []
  },
  {
   "cell_type": "code",
   "execution_count": null,
   "metadata": {},
   "outputs": [],
   "source": [
    "# Getting location coordinate\n",
    "\n",
    "Location_list = results_2022_groupby_df[\"location\"].tolist()\n",
    "\n",
    "location = []\n",
    "latitude = []\n",
    "longitude = []\n",
    "\n",
    "for i in Location_list:\n",
    "    try:\n",
    "        base_url = \"https://maps.googleapis.com/maps/api/geocode/json\"\n",
    "        target_location2 = i + \", Melbourne Australia\"\n",
    "        params = {\"address\": target_location2, \"key\": g_key}\n",
    "        response = requests.get(base_url, params=params)\n",
    "        location_geo = response.json()\n",
    "        lat = location_geo[\"results\"][0][\"geometry\"][\"location\"][\"lat\"]\n",
    "        lng = location_geo[\"results\"][0][\"geometry\"][\"location\"][\"lng\"]\n",
    "        print(f\"{target_location2}: {lat}, {lng}\")\n",
    "        location.append(i)\n",
    "        latitude.append(lat)\n",
    "        longitude.append(lng)\n",
    "    except:\n",
    "        print(\"Target location not found\")"
   ]
  },
  {
   "cell_type": "code",
   "execution_count": null,
   "metadata": {},
   "outputs": [],
   "source": [
    "# create new df for location coordinate\n",
    "\n",
    "location_dict = {\n",
    "    \"location\": location,\n",
    "    \"Lat\": latitude,\n",
    "    \"Lon\": longitude,\n",
    "    }\n",
    "location_data_dict = pd.DataFrame(location_dict)\n",
    "\n",
    "location_data_dict.head()"
   ]
  },
  {
   "cell_type": "code",
   "execution_count": null,
   "metadata": {},
   "outputs": [],
   "source": [
    "# merging foot traffic data and coord data\n",
    "\n",
    "data_summary_2022 = location_data_dict.merge(results_2022_groupby_df,how=\"left\", on=\"location\" )\n",
    "data_summary_2022.to_csv (\"datasummary2022.csv\")\n",
    "data_summary_2022.head(10)\n",
    "\n",
    "sort_2022 = data_summary_2022.sort_values(\"Av foot traffic 2022\", ascending=False).reset_index()\n",
    "sort_2022\n",
    "\n",
    "top_10_2022 = sort_2022.iloc[0:10,:]\n",
    "top_10_2022\n"
   ]
  },
  {
   "cell_type": "code",
   "execution_count": null,
   "metadata": {},
   "outputs": [],
   "source": [
    "# creating google heatmap\n",
    "\n",
    "# location & foot traffic input\n",
    "lat_long = top_10_2022[[\"Lat\", \"Lon\"]]\n",
    "foottrafic = top_10_2022[\"Av foot traffic 2022\"]\n",
    "\n",
    "# Plot Heatmap\n",
    "fig = gmaps.figure()\n",
    "heat_layer = gmaps.heatmap_layer(lat_long, weights=foottrafic, max_intensity=2000)\n",
    "fig.add_layer(heat_layer)\n",
    "fig"
   ]
  },
  {
   "cell_type": "code",
   "execution_count": null,
   "metadata": {},
   "outputs": [],
   "source": [
    "# Restaurant nearby\n",
    "\n",
    "top_resto_name = []\n",
    "top_resto_address = []\n",
    "top_resto_lat = []\n",
    "top_resto_lng = []\n",
    "\n",
    "for index, row in top_10_2022.iterrows():\n",
    "    phrase = f\"best restaurant in {row.location} Melbourne, Australia\"\n",
    "    target_url = \"https://maps.googleapis.com/maps/api/place/textsearch/json\"\n",
    "\n",
    "    params = {\"query\": phrase,\"key\": g_key, \"radius\": 100, \"type\": \"restaurant\"}\n",
    "\n",
    "    response = requests.get(target_url, params)\n",
    "    # print(response.url)\n",
    "    top_resto = response.json()\n",
    "    counter = 0\n",
    "    for place in top_resto[\"results\"]:\n",
    "        print(place[\"name\"])\n",
    "        print(place[\"formatted_address\"])\n",
    "        print(place[\"geometry\"][\"location\"][\"lat\"])\n",
    "        print(place[\"geometry\"][\"location\"][\"lng\"])\n",
    "        top_resto_name.append(place[\"name\"])\n",
    "        top_resto_address.append(place[\"formatted_address\"])\n",
    "        top_resto_lat.append(place[\"geometry\"][\"location\"][\"lat\"])\n",
    "        top_resto_lng.append(place[\"geometry\"][\"location\"][\"lng\"])\n",
    "        counter += 1\n",
    "        if counter > 50:\n",
    "            break\n",
    "\n",
    "# phrase = f\"best restaurant in Flinders La-Swanston St (West) Melbourne, Australia\"\n",
    "# target_url = \"https://maps.googleapis.com/maps/api/place/textsearch/json\"\n",
    "# params = {\"query\": phrase,\"key\": g_key}\n",
    "\n",
    "# response = requests.get(target_url, params)\n",
    "# top_resto = response.json()\n",
    "# # pprint(top_resto[\"results\"][\"name\"])\n",
    "\n",
    "# pprint(top_resto[\"results\"][0][\"geometry\"][\"location\"][\"lng\"])\n",
    "\n",
    "# # # pprint(top_resto)\n"
   ]
  },
  {
   "cell_type": "code",
   "execution_count": null,
   "metadata": {},
   "outputs": [],
   "source": [
    "top_resto_dict = {\n",
    "    \"name\": top_resto_name,\n",
    "    \"address\": top_resto_address, \n",
    "    \"Lat\": top_resto_lat,\n",
    "    \"Lon\": top_resto_lng,\n",
    "    }\n",
    "top_resto_df = pd.DataFrame(top_resto_dict)\n",
    "\n",
    "top_resto_df\n",
    "len(top_resto_df)\n"
   ]
  },
  {
   "cell_type": "code",
   "execution_count": null,
   "metadata": {},
   "outputs": [],
   "source": [
    "# Using the template add the hotel marks to the heatmap\n",
    "info_box_template = \"\"\"\n",
    "<dl>\n",
    "<dt>Name</dt><dd>{name}</dd>\n",
    "<dt>Address</dt><dd>{address}</dd>\n",
    "</dl>\n",
    "\"\"\"\n",
    "\n",
    "resto_info = [info_box_template.format(**row) for index, row in top_resto_df.iterrows()]\n",
    "locations = top_resto_df[[\"Lat\", \"Lon\"]]\n",
    "\n",
    "# Add marker layer ontop of heat map\n",
    "marker_layer=gmaps.marker_layer(locations, info_box_content=resto_info)\n",
    "fig.add_layer(marker_layer)\n",
    "\n",
    "# Display figure\n",
    "fig\n"
   ]
  },
  {
   "cell_type": "markdown",
   "metadata": {},
   "source": [
    "## Correlation Analysis - daily average foot traffic vs. daily temperature 2019"
   ]
  },
  {
   "cell_type": "code",
   "execution_count": null,
   "metadata": {},
   "outputs": [],
   "source": [
    "# daily temperature year 2019\n",
    "\n",
    "weather_df = pd.read_csv(\"IDCJAC0010_086338_2019_Data.csv\")\n",
    "weather_df.head()"
   ]
  },
  {
   "cell_type": "code",
   "execution_count": null,
   "metadata": {},
   "outputs": [],
   "source": [
    "# Data 2019 cleaning\n",
    "\n",
    "weather_df.dtypes"
   ]
  },
  {
   "cell_type": "code",
   "execution_count": null,
   "metadata": {},
   "outputs": [],
   "source": [
    "# Data 2019 cleaning - data types\n",
    "weather_data_type_dict = {\"Month\":object,\"Day\":object}\n",
    "weather_df = weather_df.astype(weather_data_type_dict)\n",
    "\n",
    "weather_df.dtypes"
   ]
  },
  {
   "cell_type": "code",
   "execution_count": null,
   "metadata": {},
   "outputs": [],
   "source": [
    "weather_df [\"Month\"] = weather_df [\"Month\"].replace({1:'January',2:'February',3:'March',4:'April',5:'May',6:'June',7:\"July\",8:\"August\",9:\"September\",10:\"October\",11:\"November\",12:\"December\"})\n",
    "\n",
    "weather_df\n"
   ]
  },
  {
   "cell_type": "code",
   "execution_count": null,
   "metadata": {},
   "outputs": [],
   "source": [
    "#Still not working properly\n",
    "weather_df [\"month+day\"] = weather_df [\"Month\"] + str(weather_df [\"Day\"])\n",
    "weather_df"
   ]
  },
  {
   "cell_type": "code",
   "execution_count": null,
   "metadata": {},
   "outputs": [],
   "source": [
    "# Data collection - year 2019 - post-covid\n",
    "\n",
    "client = Socrata(\"data.melbourne.vic.gov.au\", app_token=\"PJ7LNUcljkE0xkoj2J0AzMeU4\", username=\"david_salim2006@hotmail.com\", password=\"David!2022\")\n",
    "\n",
    "results_2019 = client.get(\"b2ak-trbp\", year= 2019, limit = 10000000)\n",
    "\n",
    "results_2019_df = pd.DataFrame.from_records(results_2019)\n",
    "results_2019_df.to_csv(\"foottrafficsdata2019.csv\")\n",
    "\n",
    "results_2019_df.head()"
   ]
  },
  {
   "cell_type": "code",
   "execution_count": null,
   "metadata": {},
   "outputs": [],
   "source": [
    "# Data 2019 cleaning - data types\n",
    "data_type_dict2 = {\"id\":int,\"year\":int,\"mdate\":object,\"time\":int,\"hourly_counts\":float}\n",
    "results_2019_df = results_2019_df.astype(data_type_dict2)\n",
    "\n",
    "results_2019_df.dtypes"
   ]
  },
  {
   "cell_type": "code",
   "execution_count": null,
   "metadata": {},
   "outputs": [],
   "source": [
    "results_2019_df [\"month+day\"] = results_2019_df [\"month\"] + results_2019_df [\"mdate\"]\n",
    "# results_2019_df.to_csv(\"2019.csv\")\n",
    "results_2019_df"
   ]
  },
  {
   "cell_type": "code",
   "execution_count": null,
   "metadata": {},
   "outputs": [],
   "source": [
    "# Data 2019 groupby & calculation\n",
    "\n",
    "location_2019 = results_2019_df.groupby(\"month+day\")\n",
    "daily_foottrafic_2019 = location_2019[\"hourly_counts\"].mean()\n",
    "\n",
    "results_2019_groupby_df = pd.DataFrame({\"Av foot traffic 2019\": daily_foottrafic_2019})\n",
    "results_2019_groupby_df = results_2019_groupby_df.reset_index()\n",
    "results_2019_groupby_df.rename(columns={\"sensor_name\":\"location\"},inplace=True)\n",
    "results_2019_groupby_df\n"
   ]
  }
 ],
 "metadata": {
  "kernelspec": {
   "display_name": "Python [conda env:bootcamp] *",
   "language": "python",
   "name": "conda-env-bootcamp-py"
  },
  "language_info": {
   "codemirror_mode": {
    "name": "ipython",
    "version": 3
   },
   "file_extension": ".py",
   "mimetype": "text/x-python",
   "name": "python",
   "nbconvert_exporter": "python",
   "pygments_lexer": "ipython3",
   "version": "3.7.13"
  },
  "vscode": {
   "interpreter": {
    "hash": "f558debdfaba676aff5dab4f39c140e6991e3cee48166dee3f538a0f8087c214"
   }
  }
 },
 "nbformat": 4,
 "nbformat_minor": 2
}
