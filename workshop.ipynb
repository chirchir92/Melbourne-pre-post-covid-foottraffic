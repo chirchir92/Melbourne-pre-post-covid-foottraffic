{
 "cells": [
  {
   "cell_type": "code",
   "execution_count": 1,
   "id": "a979b267",
   "metadata": {},
   "outputs": [],
   "source": [
    "# import dependencies\n",
    "import os\n",
    "import json\n",
    "import matplotlib.pyplot as plt\n",
    "import pandas as pd\n",
    "import numpy as np\n",
    "import requests\n",
    "from scipy.stats import linregress\n",
    "from sodapy import Socrata\n",
    "import gmaps\n",
    "from config import g_keys"
   ]
  },
  {
   "cell_type": "code",
   "execution_count": null,
   "id": "1aa2f0da",
   "metadata": {},
   "outputs": [],
   "source": [
    "# used 'None', appication token with no password or username\n",
    "client = Socrata(\"data.melbourne.vic.gov.au\", None)\n",
    "# First 2000 results, returned as JSON from API / converted to Python list of\n",
    "# dictionaries by sodapy.\n",
    "results = client.get(\"b2ak-trbp\", year=2019, limit=20000000)\n",
    "# Convert to pandas DataFrame\n",
    "results_2019_df = pd.DataFrame.from_records(results)\n",
    "# len(results_df)\n",
    "# save the dataframe\n",
    "results_2019_df.to_csv('2019_foottraffick.csv')\n",
    "results_2019_df.head()"
   ]
  }
 ],
 "metadata": {
  "kernelspec": {
   "display_name": "Python [conda env:bootcamp] *",
   "language": "python",
   "name": "conda-env-bootcamp-py"
  },
  "language_info": {
   "codemirror_mode": {
    "name": "ipython",
    "version": 3
   },
   "file_extension": ".py",
   "mimetype": "text/x-python",
   "name": "python",
   "nbconvert_exporter": "python",
   "pygments_lexer": "ipython3",
   "version": "3.7.13"
  }
 },
 "nbformat": 4,
 "nbformat_minor": 5
}
